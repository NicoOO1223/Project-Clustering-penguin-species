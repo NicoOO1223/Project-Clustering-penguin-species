{
 "cells": [
  {
   "cell_type": "code",
   "execution_count": null,
   "id": "eb3e3c81",
   "metadata": {},
   "outputs": [],
   "source": [
    "# Import Required Packages\n",
    "import pandas as pd\n",
    "import matplotlib.pyplot as plt\n",
    "from sklearn.cluster import KMeans\n",
    "from sklearn.preprocessing import StandardScaler\n",
    "\n",
    "# Loading and examining the dataset\n",
    "penguins_df = pd.read_csv(\"penguins.csv\")\n",
    "penguins_df.head()"
   ]
  },
  {
   "cell_type": "code",
   "execution_count": null,
   "id": "8976d6c6",
   "metadata": {},
   "outputs": [],
   "source": [
    "penguins_df = pd.get_dummies(data=penguins_df, columns=['sex'], dtype=int)\n",
    "num_cols = penguins_df.select_dtypes(include=['number']).columns\n",
    "penguins = penguins_df.copy()\n",
    "\n",
    "scaler = StandardScaler()\n",
    "penguins[num_cols] = scaler.fit_transform(penguins_df[num_cols])"
   ]
  },
  {
   "cell_type": "code",
   "execution_count": null,
   "id": "b9ab8c17",
   "metadata": {},
   "outputs": [],
   "source": [
    "inertia = []\n",
    "for i in range(1, 10):\n",
    "    kmeans = KMeans(n_clusters=i, random_state=42)\n",
    "    kmeans.fit(penguins[num_cols])  # Fit on the scaled data\n",
    "    inertia.append(kmeans.inertia_)\n",
    "\n",
    "plt.plot(range(1, 10), inertia)"
   ]
  },
  {
   "cell_type": "code",
   "execution_count": null,
   "id": "300cfe0f",
   "metadata": {},
   "outputs": [],
   "source": [
    "kmeans = KMeans(n_clusters=3, random_state=42)\n",
    "penguins['Cluster'] = kmeans.fit_predict(penguins[num_cols])\n",
    "plt.scatter(penguins_df['culmen_length_mm'], penguins_df['culmen_depth_mm'], c=penguins['Cluster'], cmap='viridis', alpha=0.7)\n",
    "\n",
    "penguins_df['label'] = kmeans.labels_\n",
    "stat_penguins = penguins_df.groupby('label').mean()\n",
    "print(stat_penguins)"
   ]
  }
 ],
 "metadata": {
  "language_info": {
   "name": "python"
  }
 },
 "nbformat": 4,
 "nbformat_minor": 5
}
